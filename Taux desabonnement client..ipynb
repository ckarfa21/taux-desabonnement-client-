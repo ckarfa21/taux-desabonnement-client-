{
 "cells": [
  {
   "cell_type": "markdown",
   "metadata": {},
   "source": [
    "Le taux de désabonnement des clients se produit lorsque les clients ou les abonnés cessent de faire affaire avec une entreprise ou un service. \n",
    "\n",
    "Une entreprise veut savoir quels sont les clients qui vont se désabonner en examinant certains des attributs importants et en y appliquant le Machine Learning ou le Deep Learning."
   ]
  },
  {
   "cell_type": "markdown",
   "metadata": {},
   "source": [
    "# I - Traitement, Visualisation et Analyse des données"
   ]
  },
  {
   "cell_type": "code",
   "execution_count": 1,
   "metadata": {},
   "outputs": [],
   "source": [
    "from sklearn.preprocessing import LabelEncoder, OneHotEncoder\n",
    "import pandas as pd\n",
    "import numpy as np\n",
    "import matplotlib.pyplot as plt\n",
    "from sklearn.metrics import confusion_matrix\n",
    "\n",
    "from sklearn.metrics import mean_squared_error\n",
    "from sklearn.model_selection import cross_val_score, train_test_split, GridSearchCV\n",
    "from sklearn.preprocessing import LabelEncoder \n",
    "from sklearn.preprocessing import StandardScaler\n",
    "from sklearn.ensemble import RandomForestClassifier\n",
    "from sklearn import preprocessing\n",
    "from sklearn.metrics import mean_squared_error , mean_absolute_error\n",
    "from sklearn.linear_model import LogisticRegression\n",
    "from sklearn.linear_model import LinearRegression\n",
    "from sklearn.model_selection import PredefinedSplit\n",
    "from sklearn.pipeline import make_pipeline\n",
    "from sklearn.decomposition import PCA\n",
    "from sklearn.metrics import confusion_matrix\n",
    "from tensorflow.keras import layers, models"
   ]
  },
  {
   "cell_type": "code",
   "execution_count": 2,
   "metadata": {},
   "outputs": [
    {
     "data": {
      "text/html": [
       "<div>\n",
       "<style scoped>\n",
       "    .dataframe tbody tr th:only-of-type {\n",
       "        vertical-align: middle;\n",
       "    }\n",
       "\n",
       "    .dataframe tbody tr th {\n",
       "        vertical-align: top;\n",
       "    }\n",
       "\n",
       "    .dataframe thead th {\n",
       "        text-align: right;\n",
       "    }\n",
       "</style>\n",
       "<table border=\"1\" class=\"dataframe\">\n",
       "  <thead>\n",
       "    <tr style=\"text-align: right;\">\n",
       "      <th></th>\n",
       "      <th>num_ligne</th>\n",
       "      <th>ID_Client</th>\n",
       "      <th>Nom</th>\n",
       "      <th>Score_Credit</th>\n",
       "      <th>Pays</th>\n",
       "      <th>Sex</th>\n",
       "      <th>Age</th>\n",
       "      <th>Tenure</th>\n",
       "      <th>Balance</th>\n",
       "      <th>Num_Produit</th>\n",
       "      <th>il_a_CrCard</th>\n",
       "      <th>Membre_actif</th>\n",
       "      <th>Salaire_estime</th>\n",
       "      <th>Exited</th>\n",
       "    </tr>\n",
       "  </thead>\n",
       "  <tbody>\n",
       "    <tr>\n",
       "      <th>0</th>\n",
       "      <td>1</td>\n",
       "      <td>15634602</td>\n",
       "      <td>Hargrave</td>\n",
       "      <td>619</td>\n",
       "      <td>France</td>\n",
       "      <td>Female</td>\n",
       "      <td>42</td>\n",
       "      <td>2</td>\n",
       "      <td>0.00</td>\n",
       "      <td>1</td>\n",
       "      <td>1</td>\n",
       "      <td>1</td>\n",
       "      <td>101348.88</td>\n",
       "      <td>1</td>\n",
       "    </tr>\n",
       "    <tr>\n",
       "      <th>1</th>\n",
       "      <td>2</td>\n",
       "      <td>15647311</td>\n",
       "      <td>Hill</td>\n",
       "      <td>608</td>\n",
       "      <td>Spain</td>\n",
       "      <td>Female</td>\n",
       "      <td>41</td>\n",
       "      <td>1</td>\n",
       "      <td>83807.86</td>\n",
       "      <td>1</td>\n",
       "      <td>0</td>\n",
       "      <td>1</td>\n",
       "      <td>112542.58</td>\n",
       "      <td>0</td>\n",
       "    </tr>\n",
       "    <tr>\n",
       "      <th>2</th>\n",
       "      <td>3</td>\n",
       "      <td>15619304</td>\n",
       "      <td>Onio</td>\n",
       "      <td>502</td>\n",
       "      <td>France</td>\n",
       "      <td>Female</td>\n",
       "      <td>42</td>\n",
       "      <td>8</td>\n",
       "      <td>159660.80</td>\n",
       "      <td>3</td>\n",
       "      <td>1</td>\n",
       "      <td>0</td>\n",
       "      <td>113931.57</td>\n",
       "      <td>1</td>\n",
       "    </tr>\n",
       "    <tr>\n",
       "      <th>3</th>\n",
       "      <td>4</td>\n",
       "      <td>15701354</td>\n",
       "      <td>Boni</td>\n",
       "      <td>699</td>\n",
       "      <td>France</td>\n",
       "      <td>Female</td>\n",
       "      <td>39</td>\n",
       "      <td>1</td>\n",
       "      <td>0.00</td>\n",
       "      <td>2</td>\n",
       "      <td>0</td>\n",
       "      <td>0</td>\n",
       "      <td>93826.63</td>\n",
       "      <td>0</td>\n",
       "    </tr>\n",
       "    <tr>\n",
       "      <th>4</th>\n",
       "      <td>5</td>\n",
       "      <td>15737888</td>\n",
       "      <td>Mitchell</td>\n",
       "      <td>850</td>\n",
       "      <td>Spain</td>\n",
       "      <td>Female</td>\n",
       "      <td>43</td>\n",
       "      <td>2</td>\n",
       "      <td>125510.82</td>\n",
       "      <td>1</td>\n",
       "      <td>1</td>\n",
       "      <td>1</td>\n",
       "      <td>79084.10</td>\n",
       "      <td>0</td>\n",
       "    </tr>\n",
       "    <tr>\n",
       "      <th>...</th>\n",
       "      <td>...</td>\n",
       "      <td>...</td>\n",
       "      <td>...</td>\n",
       "      <td>...</td>\n",
       "      <td>...</td>\n",
       "      <td>...</td>\n",
       "      <td>...</td>\n",
       "      <td>...</td>\n",
       "      <td>...</td>\n",
       "      <td>...</td>\n",
       "      <td>...</td>\n",
       "      <td>...</td>\n",
       "      <td>...</td>\n",
       "      <td>...</td>\n",
       "    </tr>\n",
       "    <tr>\n",
       "      <th>9995</th>\n",
       "      <td>9996</td>\n",
       "      <td>15606229</td>\n",
       "      <td>Obijiaku</td>\n",
       "      <td>771</td>\n",
       "      <td>France</td>\n",
       "      <td>Male</td>\n",
       "      <td>39</td>\n",
       "      <td>5</td>\n",
       "      <td>0.00</td>\n",
       "      <td>2</td>\n",
       "      <td>1</td>\n",
       "      <td>0</td>\n",
       "      <td>96270.64</td>\n",
       "      <td>0</td>\n",
       "    </tr>\n",
       "    <tr>\n",
       "      <th>9996</th>\n",
       "      <td>9997</td>\n",
       "      <td>15569892</td>\n",
       "      <td>Johnstone</td>\n",
       "      <td>516</td>\n",
       "      <td>France</td>\n",
       "      <td>Male</td>\n",
       "      <td>35</td>\n",
       "      <td>10</td>\n",
       "      <td>57369.61</td>\n",
       "      <td>1</td>\n",
       "      <td>1</td>\n",
       "      <td>1</td>\n",
       "      <td>101699.77</td>\n",
       "      <td>0</td>\n",
       "    </tr>\n",
       "    <tr>\n",
       "      <th>9997</th>\n",
       "      <td>9998</td>\n",
       "      <td>15584532</td>\n",
       "      <td>Liu</td>\n",
       "      <td>709</td>\n",
       "      <td>France</td>\n",
       "      <td>Female</td>\n",
       "      <td>36</td>\n",
       "      <td>7</td>\n",
       "      <td>0.00</td>\n",
       "      <td>1</td>\n",
       "      <td>0</td>\n",
       "      <td>1</td>\n",
       "      <td>42085.58</td>\n",
       "      <td>1</td>\n",
       "    </tr>\n",
       "    <tr>\n",
       "      <th>9998</th>\n",
       "      <td>9999</td>\n",
       "      <td>15682355</td>\n",
       "      <td>Sabbatini</td>\n",
       "      <td>772</td>\n",
       "      <td>Germany</td>\n",
       "      <td>Male</td>\n",
       "      <td>42</td>\n",
       "      <td>3</td>\n",
       "      <td>75075.31</td>\n",
       "      <td>2</td>\n",
       "      <td>1</td>\n",
       "      <td>0</td>\n",
       "      <td>92888.52</td>\n",
       "      <td>1</td>\n",
       "    </tr>\n",
       "    <tr>\n",
       "      <th>9999</th>\n",
       "      <td>10000</td>\n",
       "      <td>15628319</td>\n",
       "      <td>Walker</td>\n",
       "      <td>792</td>\n",
       "      <td>France</td>\n",
       "      <td>Female</td>\n",
       "      <td>28</td>\n",
       "      <td>4</td>\n",
       "      <td>130142.79</td>\n",
       "      <td>1</td>\n",
       "      <td>1</td>\n",
       "      <td>0</td>\n",
       "      <td>38190.78</td>\n",
       "      <td>0</td>\n",
       "    </tr>\n",
       "  </tbody>\n",
       "</table>\n",
       "<p>10000 rows × 14 columns</p>\n",
       "</div>"
      ],
      "text/plain": [
       "      num_ligne  ID_Client        Nom  Score_Credit     Pays     Sex  Age  \\\n",
       "0             1   15634602   Hargrave           619   France  Female   42   \n",
       "1             2   15647311       Hill           608    Spain  Female   41   \n",
       "2             3   15619304       Onio           502   France  Female   42   \n",
       "3             4   15701354       Boni           699   France  Female   39   \n",
       "4             5   15737888   Mitchell           850    Spain  Female   43   \n",
       "...         ...        ...        ...           ...      ...     ...  ...   \n",
       "9995       9996   15606229   Obijiaku           771   France    Male   39   \n",
       "9996       9997   15569892  Johnstone           516   France    Male   35   \n",
       "9997       9998   15584532        Liu           709   France  Female   36   \n",
       "9998       9999   15682355  Sabbatini           772  Germany    Male   42   \n",
       "9999      10000   15628319     Walker           792   France  Female   28   \n",
       "\n",
       "      Tenure    Balance  Num_Produit  il_a_CrCard  Membre_actif  \\\n",
       "0          2       0.00            1            1             1   \n",
       "1          1   83807.86            1            0             1   \n",
       "2          8  159660.80            3            1             0   \n",
       "3          1       0.00            2            0             0   \n",
       "4          2  125510.82            1            1             1   \n",
       "...      ...        ...          ...          ...           ...   \n",
       "9995       5       0.00            2            1             0   \n",
       "9996      10   57369.61            1            1             1   \n",
       "9997       7       0.00            1            0             1   \n",
       "9998       3   75075.31            2            1             0   \n",
       "9999       4  130142.79            1            1             0   \n",
       "\n",
       "      Salaire_estime  Exited  \n",
       "0          101348.88       1  \n",
       "1          112542.58       0  \n",
       "2          113931.57       1  \n",
       "3           93826.63       0  \n",
       "4           79084.10       0  \n",
       "...              ...     ...  \n",
       "9995        96270.64       0  \n",
       "9996       101699.77       0  \n",
       "9997        42085.58       1  \n",
       "9998        92888.52       1  \n",
       "9999        38190.78       0  \n",
       "\n",
       "[10000 rows x 14 columns]"
      ]
     },
     "execution_count": 2,
     "metadata": {},
     "output_type": "execute_result"
    }
   ],
   "source": [
    "taux= pd.read_csv('./data.csv', sep = \",\")\n",
    "taux"
   ]
  },
  {
   "cell_type": "markdown",
   "metadata": {},
   "source": [
    "# Preparation du dataset"
   ]
  },
  {
   "cell_type": "code",
   "execution_count": 3,
   "metadata": {},
   "outputs": [
    {
     "data": {
      "text/html": [
       "<div>\n",
       "<style scoped>\n",
       "    .dataframe tbody tr th:only-of-type {\n",
       "        vertical-align: middle;\n",
       "    }\n",
       "\n",
       "    .dataframe tbody tr th {\n",
       "        vertical-align: top;\n",
       "    }\n",
       "\n",
       "    .dataframe thead th {\n",
       "        text-align: right;\n",
       "    }\n",
       "</style>\n",
       "<table border=\"1\" class=\"dataframe\">\n",
       "  <thead>\n",
       "    <tr style=\"text-align: right;\">\n",
       "      <th></th>\n",
       "      <th>Score_Credit</th>\n",
       "      <th>Pays</th>\n",
       "      <th>Sex</th>\n",
       "      <th>Age</th>\n",
       "      <th>Tenure</th>\n",
       "      <th>Balance</th>\n",
       "      <th>Num_Produit</th>\n",
       "      <th>il_a_CrCard</th>\n",
       "      <th>Membre_actif</th>\n",
       "      <th>Salaire_estime</th>\n",
       "      <th>Exited</th>\n",
       "    </tr>\n",
       "  </thead>\n",
       "  <tbody>\n",
       "    <tr>\n",
       "      <th>0</th>\n",
       "      <td>619</td>\n",
       "      <td>France</td>\n",
       "      <td>Female</td>\n",
       "      <td>42</td>\n",
       "      <td>2</td>\n",
       "      <td>0.00</td>\n",
       "      <td>1</td>\n",
       "      <td>1</td>\n",
       "      <td>1</td>\n",
       "      <td>101348.88</td>\n",
       "      <td>1</td>\n",
       "    </tr>\n",
       "    <tr>\n",
       "      <th>1</th>\n",
       "      <td>608</td>\n",
       "      <td>Spain</td>\n",
       "      <td>Female</td>\n",
       "      <td>41</td>\n",
       "      <td>1</td>\n",
       "      <td>83807.86</td>\n",
       "      <td>1</td>\n",
       "      <td>0</td>\n",
       "      <td>1</td>\n",
       "      <td>112542.58</td>\n",
       "      <td>0</td>\n",
       "    </tr>\n",
       "    <tr>\n",
       "      <th>2</th>\n",
       "      <td>502</td>\n",
       "      <td>France</td>\n",
       "      <td>Female</td>\n",
       "      <td>42</td>\n",
       "      <td>8</td>\n",
       "      <td>159660.80</td>\n",
       "      <td>3</td>\n",
       "      <td>1</td>\n",
       "      <td>0</td>\n",
       "      <td>113931.57</td>\n",
       "      <td>1</td>\n",
       "    </tr>\n",
       "    <tr>\n",
       "      <th>3</th>\n",
       "      <td>699</td>\n",
       "      <td>France</td>\n",
       "      <td>Female</td>\n",
       "      <td>39</td>\n",
       "      <td>1</td>\n",
       "      <td>0.00</td>\n",
       "      <td>2</td>\n",
       "      <td>0</td>\n",
       "      <td>0</td>\n",
       "      <td>93826.63</td>\n",
       "      <td>0</td>\n",
       "    </tr>\n",
       "    <tr>\n",
       "      <th>4</th>\n",
       "      <td>850</td>\n",
       "      <td>Spain</td>\n",
       "      <td>Female</td>\n",
       "      <td>43</td>\n",
       "      <td>2</td>\n",
       "      <td>125510.82</td>\n",
       "      <td>1</td>\n",
       "      <td>1</td>\n",
       "      <td>1</td>\n",
       "      <td>79084.10</td>\n",
       "      <td>0</td>\n",
       "    </tr>\n",
       "  </tbody>\n",
       "</table>\n",
       "</div>"
      ],
      "text/plain": [
       "   Score_Credit    Pays     Sex  Age  Tenure    Balance  Num_Produit  \\\n",
       "0           619  France  Female   42       2       0.00            1   \n",
       "1           608   Spain  Female   41       1   83807.86            1   \n",
       "2           502  France  Female   42       8  159660.80            3   \n",
       "3           699  France  Female   39       1       0.00            2   \n",
       "4           850   Spain  Female   43       2  125510.82            1   \n",
       "\n",
       "   il_a_CrCard  Membre_actif  Salaire_estime  Exited  \n",
       "0            1             1       101348.88       1  \n",
       "1            0             1       112542.58       0  \n",
       "2            1             0       113931.57       1  \n",
       "3            0             0        93826.63       0  \n",
       "4            1             1        79084.10       0  "
      ]
     },
     "execution_count": 3,
     "metadata": {},
     "output_type": "execute_result"
    }
   ],
   "source": [
    "#Suppression des colonnes num_ligne et ID_Client,nom\n",
    "taux.drop('num_ligne', axis=1, inplace = True)\n",
    "taux.drop('ID_Client', axis=1, inplace = True)\n",
    "taux.drop('Nom', axis=1, inplace = True)\n",
    "taux.head()"
   ]
  },
  {
   "cell_type": "code",
   "execution_count": 4,
   "metadata": {},
   "outputs": [
    {
     "data": {
      "text/plain": [
       "Score_Credit      10000\n",
       "Pays              10000\n",
       "Sex               10000\n",
       "Age               10000\n",
       "Tenure            10000\n",
       "Balance           10000\n",
       "Num_Produit       10000\n",
       "il_a_CrCard       10000\n",
       "Membre_actif      10000\n",
       "Salaire_estime    10000\n",
       "Exited            10000\n",
       "dtype: int64"
      ]
     },
     "execution_count": 4,
     "metadata": {},
     "output_type": "execute_result"
    }
   ],
   "source": [
    "#nom des labels colonnes\n",
    "taux.count()"
   ]
  },
  {
   "cell_type": "code",
   "execution_count": 5,
   "metadata": {},
   "outputs": [
    {
     "name": "stdout",
     "output_type": "stream",
     "text": [
      "<class 'pandas.core.frame.DataFrame'>\n",
      "RangeIndex: 10000 entries, 0 to 9999\n",
      "Data columns (total 11 columns):\n",
      " #   Column          Non-Null Count  Dtype  \n",
      "---  ------          --------------  -----  \n",
      " 0   Score_Credit    10000 non-null  int64  \n",
      " 1   Pays            10000 non-null  object \n",
      " 2   Sex             10000 non-null  object \n",
      " 3   Age             10000 non-null  int64  \n",
      " 4   Tenure          10000 non-null  int64  \n",
      " 5   Balance         10000 non-null  float64\n",
      " 6   Num_Produit     10000 non-null  int64  \n",
      " 7   il_a_CrCard     10000 non-null  int64  \n",
      " 8   Membre_actif    10000 non-null  int64  \n",
      " 9   Salaire_estime  10000 non-null  float64\n",
      " 10  Exited          10000 non-null  int64  \n",
      "dtypes: float64(2), int64(7), object(2)\n",
      "memory usage: 859.5+ KB\n",
      "None\n"
     ]
    }
   ],
   "source": [
    "print(taux.info())"
   ]
  },
  {
   "cell_type": "markdown",
   "metadata": {},
   "source": [
    "## 2 ANALYSE DES MANQUANTS"
   ]
  },
  {
   "cell_type": "markdown",
   "metadata": {},
   "source": [
    "Qu’est ce qu’une donnée manquante?\n",
    "\n",
    "Les algorithmes de Machine Learning prennent les données d’entrée (input Data) sous forme matricielle, chaque ligne est une observation, et chaque colonne représente une caractéristique (feature) de l’indivu (son salaire, appartenance politique etc…).\n",
    "\n",
    "On dit qu’une observation (ligne de la matrice de données) comporte une donnée manquante s’il existe une feature pour laquelle sa valeur n’est pas renseignée. Evidemment, on peut avoir plusieurs données manquantes pour une même observation.\n"
   ]
  },
  {
   "cell_type": "code",
   "execution_count": 6,
   "metadata": {},
   "outputs": [
    {
     "name": "stdout",
     "output_type": "stream",
     "text": [
      "Valeurs manquantes par colonne:\n",
      "Score_Credit      0\n",
      "Pays              0\n",
      "Sex               0\n",
      "Age               0\n",
      "Tenure            0\n",
      "Balance           0\n",
      "Num_Produit       0\n",
      "il_a_CrCard       0\n",
      "Membre_actif      0\n",
      "Salaire_estime    0\n",
      "Exited            0\n",
      "dtype: int64\n",
      "\n",
      "Valeurs manquantes par ligne:\n",
      "0    0\n",
      "1    0\n",
      "2    0\n",
      "3    0\n",
      "4    0\n",
      "dtype: int64\n"
     ]
    }
   ],
   "source": [
    "#vue d'ensemble des valeurs manquantes\n",
    "def num_missing(X):\n",
    "    return sum(X.isnull())\n",
    "\n",
    "# On applique cette fonction pour chaque colonne:\n",
    "print(\"Valeurs manquantes par colonne:\")\n",
    "print(taux.apply(num_missing, axis=0)) #axis=0 définit que la fonction sera bien appliquée sur chaque colonne\n",
    "\n",
    "# Puis application pour chaque ligne:\n",
    "print(\"\\nValeurs manquantes par ligne:\")\n",
    "print(taux.apply(num_missing, axis=1).head()) #axis=1 définit que la fonction sera bien appliquée sur chaque ligne\n"
   ]
  },
  {
   "cell_type": "markdown",
   "metadata": {},
   "source": [
    "Il semble ne pas y avoir de valeurs manquantes dans nos données"
   ]
  },
  {
   "cell_type": "code",
   "execution_count": 7,
   "metadata": {},
   "outputs": [
    {
     "name": "stdout",
     "output_type": "stream",
     "text": [
      "      Score_Credit   Pays    Sex    Age  Tenure  Balance  Num_Produit  \\\n",
      "0            False  False  False  False   False    False        False   \n",
      "1            False  False  False  False   False    False        False   \n",
      "2            False  False  False  False   False    False        False   \n",
      "3            False  False  False  False   False    False        False   \n",
      "4            False  False  False  False   False    False        False   \n",
      "...            ...    ...    ...    ...     ...      ...          ...   \n",
      "9995         False  False  False  False   False    False        False   \n",
      "9996         False  False  False  False   False    False        False   \n",
      "9997         False  False  False  False   False    False        False   \n",
      "9998         False  False  False  False   False    False        False   \n",
      "9999         False  False  False  False   False    False        False   \n",
      "\n",
      "      il_a_CrCard  Membre_actif  Salaire_estime  Exited  \n",
      "0           False         False           False   False  \n",
      "1           False         False           False   False  \n",
      "2           False         False           False   False  \n",
      "3           False         False           False   False  \n",
      "4           False         False           False   False  \n",
      "...           ...           ...             ...     ...  \n",
      "9995        False         False           False   False  \n",
      "9996        False         False           False   False  \n",
      "9997        False         False           False   False  \n",
      "9998        False         False           False   False  \n",
      "9999        False         False           False   False  \n",
      "\n",
      "[10000 rows x 11 columns]\n"
     ]
    }
   ],
   "source": [
    "var = taux.isnull()\n",
    "print(var)"
   ]
  },
  {
   "cell_type": "code",
   "execution_count": 8,
   "metadata": {},
   "outputs": [
    {
     "name": "stdout",
     "output_type": "stream",
     "text": [
      "Empty DataFrame\n",
      "Columns: [Score_Credit, Pays, Sex, Age, Tenure, Balance, Num_Produit, il_a_CrCard, Membre_actif, Salaire_estime, Exited]\n",
      "Index: []\n"
     ]
    },
    {
     "data": {
      "text/html": [
       "<div>\n",
       "<style scoped>\n",
       "    .dataframe tbody tr th:only-of-type {\n",
       "        vertical-align: middle;\n",
       "    }\n",
       "\n",
       "    .dataframe tbody tr th {\n",
       "        vertical-align: top;\n",
       "    }\n",
       "\n",
       "    .dataframe thead th {\n",
       "        text-align: right;\n",
       "    }\n",
       "</style>\n",
       "<table border=\"1\" class=\"dataframe\">\n",
       "  <thead>\n",
       "    <tr style=\"text-align: right;\">\n",
       "      <th></th>\n",
       "      <th>Score_Credit</th>\n",
       "      <th>Pays</th>\n",
       "      <th>Sex</th>\n",
       "      <th>Age</th>\n",
       "      <th>Tenure</th>\n",
       "      <th>Balance</th>\n",
       "      <th>Num_Produit</th>\n",
       "      <th>il_a_CrCard</th>\n",
       "      <th>Membre_actif</th>\n",
       "      <th>Salaire_estime</th>\n",
       "      <th>Exited</th>\n",
       "    </tr>\n",
       "  </thead>\n",
       "  <tbody>\n",
       "    <tr>\n",
       "      <th>0</th>\n",
       "      <td>619</td>\n",
       "      <td>France</td>\n",
       "      <td>Female</td>\n",
       "      <td>42</td>\n",
       "      <td>2</td>\n",
       "      <td>0.00</td>\n",
       "      <td>1</td>\n",
       "      <td>1</td>\n",
       "      <td>1</td>\n",
       "      <td>101348.88</td>\n",
       "      <td>1</td>\n",
       "    </tr>\n",
       "    <tr>\n",
       "      <th>1</th>\n",
       "      <td>608</td>\n",
       "      <td>Spain</td>\n",
       "      <td>Female</td>\n",
       "      <td>41</td>\n",
       "      <td>1</td>\n",
       "      <td>83807.86</td>\n",
       "      <td>1</td>\n",
       "      <td>0</td>\n",
       "      <td>1</td>\n",
       "      <td>112542.58</td>\n",
       "      <td>0</td>\n",
       "    </tr>\n",
       "    <tr>\n",
       "      <th>2</th>\n",
       "      <td>502</td>\n",
       "      <td>France</td>\n",
       "      <td>Female</td>\n",
       "      <td>42</td>\n",
       "      <td>8</td>\n",
       "      <td>159660.80</td>\n",
       "      <td>3</td>\n",
       "      <td>1</td>\n",
       "      <td>0</td>\n",
       "      <td>113931.57</td>\n",
       "      <td>1</td>\n",
       "    </tr>\n",
       "    <tr>\n",
       "      <th>3</th>\n",
       "      <td>699</td>\n",
       "      <td>France</td>\n",
       "      <td>Female</td>\n",
       "      <td>39</td>\n",
       "      <td>1</td>\n",
       "      <td>0.00</td>\n",
       "      <td>2</td>\n",
       "      <td>0</td>\n",
       "      <td>0</td>\n",
       "      <td>93826.63</td>\n",
       "      <td>0</td>\n",
       "    </tr>\n",
       "    <tr>\n",
       "      <th>4</th>\n",
       "      <td>850</td>\n",
       "      <td>Spain</td>\n",
       "      <td>Female</td>\n",
       "      <td>43</td>\n",
       "      <td>2</td>\n",
       "      <td>125510.82</td>\n",
       "      <td>1</td>\n",
       "      <td>1</td>\n",
       "      <td>1</td>\n",
       "      <td>79084.10</td>\n",
       "      <td>0</td>\n",
       "    </tr>\n",
       "    <tr>\n",
       "      <th>...</th>\n",
       "      <td>...</td>\n",
       "      <td>...</td>\n",
       "      <td>...</td>\n",
       "      <td>...</td>\n",
       "      <td>...</td>\n",
       "      <td>...</td>\n",
       "      <td>...</td>\n",
       "      <td>...</td>\n",
       "      <td>...</td>\n",
       "      <td>...</td>\n",
       "      <td>...</td>\n",
       "    </tr>\n",
       "    <tr>\n",
       "      <th>9995</th>\n",
       "      <td>771</td>\n",
       "      <td>France</td>\n",
       "      <td>Male</td>\n",
       "      <td>39</td>\n",
       "      <td>5</td>\n",
       "      <td>0.00</td>\n",
       "      <td>2</td>\n",
       "      <td>1</td>\n",
       "      <td>0</td>\n",
       "      <td>96270.64</td>\n",
       "      <td>0</td>\n",
       "    </tr>\n",
       "    <tr>\n",
       "      <th>9996</th>\n",
       "      <td>516</td>\n",
       "      <td>France</td>\n",
       "      <td>Male</td>\n",
       "      <td>35</td>\n",
       "      <td>10</td>\n",
       "      <td>57369.61</td>\n",
       "      <td>1</td>\n",
       "      <td>1</td>\n",
       "      <td>1</td>\n",
       "      <td>101699.77</td>\n",
       "      <td>0</td>\n",
       "    </tr>\n",
       "    <tr>\n",
       "      <th>9997</th>\n",
       "      <td>709</td>\n",
       "      <td>France</td>\n",
       "      <td>Female</td>\n",
       "      <td>36</td>\n",
       "      <td>7</td>\n",
       "      <td>0.00</td>\n",
       "      <td>1</td>\n",
       "      <td>0</td>\n",
       "      <td>1</td>\n",
       "      <td>42085.58</td>\n",
       "      <td>1</td>\n",
       "    </tr>\n",
       "    <tr>\n",
       "      <th>9998</th>\n",
       "      <td>772</td>\n",
       "      <td>Germany</td>\n",
       "      <td>Male</td>\n",
       "      <td>42</td>\n",
       "      <td>3</td>\n",
       "      <td>75075.31</td>\n",
       "      <td>2</td>\n",
       "      <td>1</td>\n",
       "      <td>0</td>\n",
       "      <td>92888.52</td>\n",
       "      <td>1</td>\n",
       "    </tr>\n",
       "    <tr>\n",
       "      <th>9999</th>\n",
       "      <td>792</td>\n",
       "      <td>France</td>\n",
       "      <td>Female</td>\n",
       "      <td>28</td>\n",
       "      <td>4</td>\n",
       "      <td>130142.79</td>\n",
       "      <td>1</td>\n",
       "      <td>1</td>\n",
       "      <td>0</td>\n",
       "      <td>38190.78</td>\n",
       "      <td>0</td>\n",
       "    </tr>\n",
       "  </tbody>\n",
       "</table>\n",
       "<p>10000 rows × 11 columns</p>\n",
       "</div>"
      ],
      "text/plain": [
       "      Score_Credit     Pays     Sex  Age  Tenure    Balance  Num_Produit  \\\n",
       "0              619   France  Female   42       2       0.00            1   \n",
       "1              608    Spain  Female   41       1   83807.86            1   \n",
       "2              502   France  Female   42       8  159660.80            3   \n",
       "3              699   France  Female   39       1       0.00            2   \n",
       "4              850    Spain  Female   43       2  125510.82            1   \n",
       "...            ...      ...     ...  ...     ...        ...          ...   \n",
       "9995           771   France    Male   39       5       0.00            2   \n",
       "9996           516   France    Male   35      10   57369.61            1   \n",
       "9997           709   France  Female   36       7       0.00            1   \n",
       "9998           772  Germany    Male   42       3   75075.31            2   \n",
       "9999           792   France  Female   28       4  130142.79            1   \n",
       "\n",
       "      il_a_CrCard  Membre_actif  Salaire_estime  Exited  \n",
       "0               1             1       101348.88       1  \n",
       "1               0             1       112542.58       0  \n",
       "2               1             0       113931.57       1  \n",
       "3               0             0        93826.63       0  \n",
       "4               1             1        79084.10       0  \n",
       "...           ...           ...             ...     ...  \n",
       "9995            1             0        96270.64       0  \n",
       "9996            1             1       101699.77       0  \n",
       "9997            0             1        42085.58       1  \n",
       "9998            1             0        92888.52       1  \n",
       "9999            1             0        38190.78       0  \n",
       "\n",
       "[10000 rows x 11 columns]"
      ]
     },
     "execution_count": 8,
     "metadata": {},
     "output_type": "execute_result"
    }
   ],
   "source": [
    "var2 = taux[var.any(axis=1)] #verifie les valeurs où il y a le true\n",
    "print(var2)\n",
    "taux.fillna(0)"
   ]
  },
  {
   "cell_type": "markdown",
   "metadata": {},
   "source": [
    "##  3 Exploration des variables quantitatives"
   ]
  },
  {
   "cell_type": "markdown",
   "metadata": {},
   "source": [
    "### Afficher la liste des variables quantitatives dans le jeu de données"
   ]
  },
  {
   "cell_type": "code",
   "execution_count": 9,
   "metadata": {},
   "outputs": [
    {
     "name": "stdout",
     "output_type": "stream",
     "text": [
      "There are 9 numerical variables\n",
      "\n",
      "The numerical variables are : ['Score_Credit', 'Age', 'Tenure', 'Balance', 'Num_Produit', 'il_a_CrCard', 'Membre_actif', 'Salaire_estime', 'Exited']\n"
     ]
    }
   ],
   "source": [
    "\n",
    "numerical = [var for var in taux.columns if taux[var].dtype!='O']\n",
    "\n",
    "print('There are {} numerical variables\\n'.format(len(numerical)))\n",
    "\n",
    "print('The numerical variables are :', numerical)"
   ]
  },
  {
   "cell_type": "markdown",
   "metadata": {},
   "source": [
    "# Visualisons le contenu des variables quantitatives dans le jeu de données"
   ]
  },
  {
   "cell_type": "code",
   "execution_count": 10,
   "metadata": {},
   "outputs": [
    {
     "data": {
      "text/html": [
       "<div>\n",
       "<style scoped>\n",
       "    .dataframe tbody tr th:only-of-type {\n",
       "        vertical-align: middle;\n",
       "    }\n",
       "\n",
       "    .dataframe tbody tr th {\n",
       "        vertical-align: top;\n",
       "    }\n",
       "\n",
       "    .dataframe thead th {\n",
       "        text-align: right;\n",
       "    }\n",
       "</style>\n",
       "<table border=\"1\" class=\"dataframe\">\n",
       "  <thead>\n",
       "    <tr style=\"text-align: right;\">\n",
       "      <th></th>\n",
       "      <th>Score_Credit</th>\n",
       "      <th>Age</th>\n",
       "      <th>Tenure</th>\n",
       "      <th>Balance</th>\n",
       "      <th>Num_Produit</th>\n",
       "      <th>il_a_CrCard</th>\n",
       "      <th>Membre_actif</th>\n",
       "      <th>Salaire_estime</th>\n",
       "      <th>Exited</th>\n",
       "    </tr>\n",
       "  </thead>\n",
       "  <tbody>\n",
       "    <tr>\n",
       "      <th>0</th>\n",
       "      <td>619</td>\n",
       "      <td>42</td>\n",
       "      <td>2</td>\n",
       "      <td>0.00</td>\n",
       "      <td>1</td>\n",
       "      <td>1</td>\n",
       "      <td>1</td>\n",
       "      <td>101348.88</td>\n",
       "      <td>1</td>\n",
       "    </tr>\n",
       "    <tr>\n",
       "      <th>1</th>\n",
       "      <td>608</td>\n",
       "      <td>41</td>\n",
       "      <td>1</td>\n",
       "      <td>83807.86</td>\n",
       "      <td>1</td>\n",
       "      <td>0</td>\n",
       "      <td>1</td>\n",
       "      <td>112542.58</td>\n",
       "      <td>0</td>\n",
       "    </tr>\n",
       "    <tr>\n",
       "      <th>2</th>\n",
       "      <td>502</td>\n",
       "      <td>42</td>\n",
       "      <td>8</td>\n",
       "      <td>159660.80</td>\n",
       "      <td>3</td>\n",
       "      <td>1</td>\n",
       "      <td>0</td>\n",
       "      <td>113931.57</td>\n",
       "      <td>1</td>\n",
       "    </tr>\n",
       "    <tr>\n",
       "      <th>3</th>\n",
       "      <td>699</td>\n",
       "      <td>39</td>\n",
       "      <td>1</td>\n",
       "      <td>0.00</td>\n",
       "      <td>2</td>\n",
       "      <td>0</td>\n",
       "      <td>0</td>\n",
       "      <td>93826.63</td>\n",
       "      <td>0</td>\n",
       "    </tr>\n",
       "    <tr>\n",
       "      <th>4</th>\n",
       "      <td>850</td>\n",
       "      <td>43</td>\n",
       "      <td>2</td>\n",
       "      <td>125510.82</td>\n",
       "      <td>1</td>\n",
       "      <td>1</td>\n",
       "      <td>1</td>\n",
       "      <td>79084.10</td>\n",
       "      <td>0</td>\n",
       "    </tr>\n",
       "  </tbody>\n",
       "</table>\n",
       "</div>"
      ],
      "text/plain": [
       "   Score_Credit  Age  Tenure    Balance  Num_Produit  il_a_CrCard  \\\n",
       "0           619   42       2       0.00            1            1   \n",
       "1           608   41       1   83807.86            1            0   \n",
       "2           502   42       8  159660.80            3            1   \n",
       "3           699   39       1       0.00            2            0   \n",
       "4           850   43       2  125510.82            1            1   \n",
       "\n",
       "   Membre_actif  Salaire_estime  Exited  \n",
       "0             1       101348.88       1  \n",
       "1             1       112542.58       0  \n",
       "2             0       113931.57       1  \n",
       "3             0        93826.63       0  \n",
       "4             1        79084.10       0  "
      ]
     },
     "execution_count": 10,
     "metadata": {},
     "output_type": "execute_result"
    }
   ],
   "source": [
    "taux[numerical].head()"
   ]
  },
  {
   "cell_type": "markdown",
   "metadata": {},
   "source": [
    "### Afficher le résumé statistique des variables quantitatives (describe())"
   ]
  },
  {
   "cell_type": "code",
   "execution_count": 11,
   "metadata": {},
   "outputs": [
    {
     "name": "stdout",
     "output_type": "stream",
     "text": [
      "       Score_Credit      Age   Tenure   Balance  Num_Produit  il_a_CrCard  \\\n",
      "count       10000.0  10000.0  10000.0   10000.0      10000.0      10000.0   \n",
      "mean          651.0     39.0      5.0   76486.0          2.0          1.0   \n",
      "std            97.0     10.0      3.0   62397.0          1.0          0.0   \n",
      "min           350.0     18.0      0.0       0.0          1.0          0.0   \n",
      "25%           584.0     32.0      3.0       0.0          1.0          0.0   \n",
      "50%           652.0     37.0      5.0   97199.0          1.0          1.0   \n",
      "75%           718.0     44.0      7.0  127644.0          2.0          1.0   \n",
      "max           850.0     92.0     10.0  250898.0          4.0          1.0   \n",
      "\n",
      "       Membre_actif  Salaire_estime   Exited  \n",
      "count       10000.0         10000.0  10000.0  \n",
      "mean            1.0        100090.0      0.0  \n",
      "std             0.0         57510.0      0.0  \n",
      "min             0.0            12.0      0.0  \n",
      "25%             0.0         51002.0      0.0  \n",
      "50%             1.0        100194.0      0.0  \n",
      "75%             1.0        149388.0      0.0  \n",
      "max             1.0        199992.0      1.0   2\n"
     ]
    }
   ],
   "source": [
    "print(round(taux[numerical].describe()),2)"
   ]
  },
  {
   "cell_type": "markdown",
   "metadata": {},
   "source": [
    "## 4 Afficher la liste des noms des variables qualitatives"
   ]
  },
  {
   "cell_type": "code",
   "execution_count": 12,
   "metadata": {},
   "outputs": [
    {
     "name": "stdout",
     "output_type": "stream",
     "text": [
      "There are 2 categorical variables\n",
      "\n",
      "The categorical variables are : ['Pays', 'Sex']\n"
     ]
    }
   ],
   "source": [
    "# liste des variables categoriques(il faut les changer en variable quantitatives.)\n",
    "variables = (taux.dtypes == 'object')\n",
    "object_cols = list(variables[variables].index)\n",
    "\n",
    "\n",
    "print('There are {} categorical variables\\n'.format(len(object_cols)))\n",
    "\n",
    "print('The categorical variables are :', object_cols)"
   ]
  },
  {
   "cell_type": "code",
   "execution_count": 61,
   "metadata": {},
   "outputs": [
    {
     "name": "stdout",
     "output_type": "stream",
     "text": [
      "Empty DataFrame\n",
      "Columns: []\n",
      "Index: [0, 1, 2, 3, 4, 5, 6, 7, 8, 9, 10, 11, 12, 13, 14, 15, 16, 17, 18, 19, 20, 21, 22, 23, 24, 25, 26, 27, 28, 29, 30, 31, 32, 33, 34, 35, 36, 37, 38, 39, 40, 41, 42, 43, 44, 45, 46, 47, 48, 49, 50, 51, 52, 53, 54, 55, 56, 57, 58, 59, 60, 61, 62, 63, 64, 65, 66, 67, 68, 69, 70, 71, 72, 73, 74, 75, 76, 77, 78, 79, 80, 81, 82, 83, 84, 85, 86, 87, 88, 89, 90, 91, 92, 93, 94, 95, 96, 97, 98, 99, ...]\n",
      "\n",
      "[10000 rows x 0 columns]\n"
     ]
    }
   ],
   "source": [
    "#Affichage des variables qualitatives\n",
    "\n",
    "df_cat = taux.select_dtypes(include='object')\n",
    "print(df_cat)"
   ]
  },
  {
   "cell_type": "code",
   "execution_count": 62,
   "metadata": {},
   "outputs": [
    {
     "data": {
      "text/html": [
       "<div>\n",
       "<style scoped>\n",
       "    .dataframe tbody tr th:only-of-type {\n",
       "        vertical-align: middle;\n",
       "    }\n",
       "\n",
       "    .dataframe tbody tr th {\n",
       "        vertical-align: top;\n",
       "    }\n",
       "\n",
       "    .dataframe thead th {\n",
       "        text-align: right;\n",
       "    }\n",
       "</style>\n",
       "<table border=\"1\" class=\"dataframe\">\n",
       "  <thead>\n",
       "    <tr style=\"text-align: right;\">\n",
       "      <th></th>\n",
       "      <th>Score_Credit</th>\n",
       "      <th>Age</th>\n",
       "      <th>Tenure</th>\n",
       "      <th>Balance</th>\n",
       "      <th>Num_Produit</th>\n",
       "      <th>il_a_CrCard</th>\n",
       "      <th>Membre_actif</th>\n",
       "      <th>Salaire_estime</th>\n",
       "      <th>Exited</th>\n",
       "    </tr>\n",
       "  </thead>\n",
       "  <tbody>\n",
       "    <tr>\n",
       "      <th>0</th>\n",
       "      <td>619</td>\n",
       "      <td>42</td>\n",
       "      <td>2</td>\n",
       "      <td>0.00</td>\n",
       "      <td>1</td>\n",
       "      <td>1</td>\n",
       "      <td>1</td>\n",
       "      <td>101348.88</td>\n",
       "      <td>1</td>\n",
       "    </tr>\n",
       "    <tr>\n",
       "      <th>1</th>\n",
       "      <td>608</td>\n",
       "      <td>41</td>\n",
       "      <td>1</td>\n",
       "      <td>83807.86</td>\n",
       "      <td>1</td>\n",
       "      <td>0</td>\n",
       "      <td>1</td>\n",
       "      <td>112542.58</td>\n",
       "      <td>0</td>\n",
       "    </tr>\n",
       "    <tr>\n",
       "      <th>2</th>\n",
       "      <td>502</td>\n",
       "      <td>42</td>\n",
       "      <td>8</td>\n",
       "      <td>159660.80</td>\n",
       "      <td>3</td>\n",
       "      <td>1</td>\n",
       "      <td>0</td>\n",
       "      <td>113931.57</td>\n",
       "      <td>1</td>\n",
       "    </tr>\n",
       "    <tr>\n",
       "      <th>3</th>\n",
       "      <td>699</td>\n",
       "      <td>39</td>\n",
       "      <td>1</td>\n",
       "      <td>0.00</td>\n",
       "      <td>2</td>\n",
       "      <td>0</td>\n",
       "      <td>0</td>\n",
       "      <td>93826.63</td>\n",
       "      <td>0</td>\n",
       "    </tr>\n",
       "    <tr>\n",
       "      <th>4</th>\n",
       "      <td>850</td>\n",
       "      <td>43</td>\n",
       "      <td>2</td>\n",
       "      <td>125510.82</td>\n",
       "      <td>1</td>\n",
       "      <td>1</td>\n",
       "      <td>1</td>\n",
       "      <td>79084.10</td>\n",
       "      <td>0</td>\n",
       "    </tr>\n",
       "  </tbody>\n",
       "</table>\n",
       "</div>"
      ],
      "text/plain": [
       "   Score_Credit  Age  Tenure    Balance  Num_Produit  il_a_CrCard  \\\n",
       "0           619   42       2       0.00            1            1   \n",
       "1           608   41       1   83807.86            1            0   \n",
       "2           502   42       8  159660.80            3            1   \n",
       "3           699   39       1       0.00            2            0   \n",
       "4           850   43       2  125510.82            1            1   \n",
       "\n",
       "   Membre_actif  Salaire_estime  Exited  \n",
       "0             1       101348.88       1  \n",
       "1             1       112542.58       0  \n",
       "2             0       113931.57       1  \n",
       "3             0        93826.63       0  \n",
       "4             1        79084.10       0  "
      ]
     },
     "execution_count": 62,
     "metadata": {},
     "output_type": "execute_result"
    }
   ],
   "source": [
    "# suppression des colonnes d'origine\n",
    "taux.drop('Pays', axis=1, inplace = True)\n",
    "taux.drop('Sex', axis=1, inplace = True)\n",
    "taux.head()"
   ]
  },
  {
   "cell_type": "code",
   "execution_count": 63,
   "metadata": {},
   "outputs": [
    {
     "name": "stdout",
     "output_type": "stream",
     "text": [
      "(10000,)\n",
      "(10000, 8)\n"
     ]
    }
   ],
   "source": [
    "# Définssion de X et Y\n",
    "\n",
    "Y = taux.Exited\n",
    "Y=np.array((Y))\n",
    "\n",
    "print(Y.shape)\n",
    "\n",
    "X = taux.loc[:, taux.columns != 'Exited']\n",
    "print(X.shape)"
   ]
  },
  {
   "cell_type": "markdown",
   "metadata": {},
   "source": [
    "# Mise a l'echelle"
   ]
  },
  {
   "cell_type": "code",
   "execution_count": 64,
   "metadata": {},
   "outputs": [
    {
     "name": "stdout",
     "output_type": "stream",
     "text": [
      "      Score_Credit  Age  Tenure    Balance  Num_Produit  il_a_CrCard  \\\n",
      "0              619   42       2       0.00            1            1   \n",
      "1              608   41       1   83807.86            1            0   \n",
      "2              502   42       8  159660.80            3            1   \n",
      "3              699   39       1       0.00            2            0   \n",
      "4              850   43       2  125510.82            1            1   \n",
      "...            ...  ...     ...        ...          ...          ...   \n",
      "9995           771   39       5       0.00            2            1   \n",
      "9996           516   35      10   57369.61            1            1   \n",
      "9997           709   36       7       0.00            1            0   \n",
      "9998           772   42       3   75075.31            2            1   \n",
      "9999           792   28       4  130142.79            1            1   \n",
      "\n",
      "      Membre_actif  Salaire_estime  \n",
      "0                1       101348.88  \n",
      "1                1       112542.58  \n",
      "2                0       113931.57  \n",
      "3                0        93826.63  \n",
      "4                1        79084.10  \n",
      "...            ...             ...  \n",
      "9995             0        96270.64  \n",
      "9996             1       101699.77  \n",
      "9997             1        42085.58  \n",
      "9998             0        92888.52  \n",
      "9999             0        38190.78  \n",
      "\n",
      "[10000 rows x 8 columns]\n"
     ]
    }
   ],
   "source": [
    "print(X)"
   ]
  },
  {
   "cell_type": "code",
   "execution_count": 65,
   "metadata": {},
   "outputs": [],
   "source": [
    "cols = X.columns"
   ]
  },
  {
   "cell_type": "code",
   "execution_count": 66,
   "metadata": {},
   "outputs": [
    {
     "name": "stdout",
     "output_type": "stream",
     "text": [
      "[[-0.32622142  0.29351742 -1.04175968 ...  0.64609167  0.97024255\n",
      "   0.02188649]\n",
      " [-0.44003595  0.19816383 -1.38753759 ... -1.54776799  0.97024255\n",
      "   0.21653375]\n",
      " [-1.53679418  0.29351742  1.03290776 ...  0.64609167 -1.03067011\n",
      "   0.2406869 ]\n",
      " ...\n",
      " [ 0.60498839 -0.27860412  0.68712986 ... -1.54776799  0.97024255\n",
      "  -1.00864308]\n",
      " [ 1.25683526  0.29351742 -0.69598177 ...  0.64609167 -1.03067011\n",
      "  -0.12523071]\n",
      " [ 1.46377078 -1.04143285 -0.35020386 ...  0.64609167 -1.03067011\n",
      "  -1.07636976]]\n"
     ]
    }
   ],
   "source": [
    "sc = StandardScaler()\n",
    "\n",
    "X = sc.fit_transform(X)\n",
    "\n",
    "print(X)"
   ]
  },
  {
   "cell_type": "code",
   "execution_count": 69,
   "metadata": {},
   "outputs": [
    {
     "data": {
      "text/html": [
       "<div>\n",
       "<style scoped>\n",
       "    .dataframe tbody tr th:only-of-type {\n",
       "        vertical-align: middle;\n",
       "    }\n",
       "\n",
       "    .dataframe tbody tr th {\n",
       "        vertical-align: top;\n",
       "    }\n",
       "\n",
       "    .dataframe thead tr th {\n",
       "        text-align: left;\n",
       "    }\n",
       "</style>\n",
       "<table border=\"1\" class=\"dataframe\">\n",
       "  <thead>\n",
       "    <tr>\n",
       "      <th></th>\n",
       "      <th>Score_Credit</th>\n",
       "      <th>Age</th>\n",
       "      <th>Tenure</th>\n",
       "      <th>Balance</th>\n",
       "      <th>Num_Produit</th>\n",
       "      <th>il_a_CrCard</th>\n",
       "      <th>Membre_actif</th>\n",
       "      <th>Salaire_estime</th>\n",
       "    </tr>\n",
       "  </thead>\n",
       "  <tbody>\n",
       "    <tr>\n",
       "      <th>0</th>\n",
       "      <td>-0.326221</td>\n",
       "      <td>0.293517</td>\n",
       "      <td>-1.041760</td>\n",
       "      <td>-1.225848</td>\n",
       "      <td>-0.911583</td>\n",
       "      <td>0.646092</td>\n",
       "      <td>0.970243</td>\n",
       "      <td>0.021886</td>\n",
       "    </tr>\n",
       "    <tr>\n",
       "      <th>1</th>\n",
       "      <td>-0.440036</td>\n",
       "      <td>0.198164</td>\n",
       "      <td>-1.387538</td>\n",
       "      <td>0.117350</td>\n",
       "      <td>-0.911583</td>\n",
       "      <td>-1.547768</td>\n",
       "      <td>0.970243</td>\n",
       "      <td>0.216534</td>\n",
       "    </tr>\n",
       "    <tr>\n",
       "      <th>2</th>\n",
       "      <td>-1.536794</td>\n",
       "      <td>0.293517</td>\n",
       "      <td>1.032908</td>\n",
       "      <td>1.333053</td>\n",
       "      <td>2.527057</td>\n",
       "      <td>0.646092</td>\n",
       "      <td>-1.030670</td>\n",
       "      <td>0.240687</td>\n",
       "    </tr>\n",
       "    <tr>\n",
       "      <th>3</th>\n",
       "      <td>0.501521</td>\n",
       "      <td>0.007457</td>\n",
       "      <td>-1.387538</td>\n",
       "      <td>-1.225848</td>\n",
       "      <td>0.807737</td>\n",
       "      <td>-1.547768</td>\n",
       "      <td>-1.030670</td>\n",
       "      <td>-0.108918</td>\n",
       "    </tr>\n",
       "    <tr>\n",
       "      <th>4</th>\n",
       "      <td>2.063884</td>\n",
       "      <td>0.388871</td>\n",
       "      <td>-1.041760</td>\n",
       "      <td>0.785728</td>\n",
       "      <td>-0.911583</td>\n",
       "      <td>0.646092</td>\n",
       "      <td>0.970243</td>\n",
       "      <td>-0.365276</td>\n",
       "    </tr>\n",
       "  </tbody>\n",
       "</table>\n",
       "</div>"
      ],
      "text/plain": [
       "  Score_Credit       Age    Tenure   Balance Num_Produit il_a_CrCard  \\\n",
       "0    -0.326221  0.293517 -1.041760 -1.225848   -0.911583    0.646092   \n",
       "1    -0.440036  0.198164 -1.387538  0.117350   -0.911583   -1.547768   \n",
       "2    -1.536794  0.293517  1.032908  1.333053    2.527057    0.646092   \n",
       "3     0.501521  0.007457 -1.387538 -1.225848    0.807737   -1.547768   \n",
       "4     2.063884  0.388871 -1.041760  0.785728   -0.911583    0.646092   \n",
       "\n",
       "  Membre_actif Salaire_estime  \n",
       "0     0.970243       0.021886  \n",
       "1     0.970243       0.216534  \n",
       "2    -1.030670       0.240687  \n",
       "3    -1.030670      -0.108918  \n",
       "4     0.970243      -0.365276  "
      ]
     },
     "execution_count": 69,
     "metadata": {},
     "output_type": "execute_result"
    }
   ],
   "source": [
    "X = pd.DataFrame(X, columns=[cols])\n",
    "X.head()"
   ]
  },
  {
   "cell_type": "markdown",
   "metadata": {},
   "source": [
    "# Entrainement du modele"
   ]
  },
  {
   "cell_type": "code",
   "execution_count": 70,
   "metadata": {},
   "outputs": [
    {
     "name": "stdout",
     "output_type": "stream",
     "text": [
      "9000 1000\n"
     ]
    }
   ],
   "source": [
    "# définition des bases d’apprentissages et de tests \n",
    "X_train, X_test, y_train, y_test = train_test_split(X, Y, test_size=0.1, random_state=9)\n",
    "\n",
    "print(len(X_train), len(X_test))"
   ]
  },
  {
   "cell_type": "markdown",
   "metadata": {},
   "source": [
    "# Regression logistique"
   ]
  },
  {
   "cell_type": "code",
   "execution_count": 71,
   "metadata": {},
   "outputs": [],
   "source": [
    "from sklearn.linear_model import LogisticRegression\n",
    "import time"
   ]
  },
  {
   "cell_type": "markdown",
   "metadata": {},
   "source": [
    "# entrainement du modele"
   ]
  },
  {
   "cell_type": "code",
   "execution_count": 72,
   "metadata": {},
   "outputs": [
    {
     "name": "stdout",
     "output_type": "stream",
     "text": [
      "0.1099398136138916\n"
     ]
    }
   ],
   "source": [
    "start = time.time()\n",
    "model_logistic = LogisticRegression(max_iter=1000, random_state=9).fit(X_train, y_train)\n",
    "stop = time.time()\n",
    "total_time = stop - start\n",
    "\n",
    "print(total_time)"
   ]
  },
  {
   "cell_type": "code",
   "execution_count": 73,
   "metadata": {},
   "outputs": [
    {
     "name": "stdout",
     "output_type": "stream",
     "text": [
      "0.808\n"
     ]
    }
   ],
   "source": [
    "# calcul du score de précision\n",
    "\n",
    "from sklearn.metrics import accuracy_score\n",
    "y_pred_log = model_logistic.predict(X_test)\n",
    "\n",
    "print(accuracy_score(y_test, y_pred_log))"
   ]
  },
  {
   "cell_type": "markdown",
   "metadata": {},
   "source": [
    "# Random Forest"
   ]
  },
  {
   "cell_type": "code",
   "execution_count": 74,
   "metadata": {},
   "outputs": [
    {
     "name": "stdout",
     "output_type": "stream",
     "text": [
      "3.7019259929656982\n"
     ]
    }
   ],
   "source": [
    "start = time.time()\n",
    "\n",
    "# divison les données en ensembles d'entraînement et de test:\n",
    "model_forest = RandomForestClassifier(n_estimators=100, random_state=9)\n",
    "model_forest.fit(X_train, y_train)\n",
    "stop = time.time()\n",
    "total_time = stop - start\n",
    "\n",
    "print(total_time)"
   ]
  },
  {
   "cell_type": "code",
   "execution_count": 75,
   "metadata": {},
   "outputs": [
    {
     "name": "stdout",
     "output_type": "stream",
     "text": [
      "0.859\n"
     ]
    }
   ],
   "source": [
    "#taux de classification\n",
    "\n",
    "y_pred_rforest = model_forest.predict(X_test)\n",
    "\n",
    "print(accuracy_score(y_test, y_pred_rforest))"
   ]
  },
  {
   "cell_type": "markdown",
   "metadata": {},
   "source": [
    "# SGD classifier"
   ]
  },
  {
   "cell_type": "code",
   "execution_count": 76,
   "metadata": {},
   "outputs": [
    {
     "name": "stdout",
     "output_type": "stream",
     "text": [
      "0.19988679885864258\n"
     ]
    }
   ],
   "source": [
    "from sklearn.linear_model import SGDClassifier\n",
    "\n",
    "start = time.time()\n",
    "model_sgd = SGDClassifier(loss=\"hinge\", penalty=\"l2\", max_iter=500)\n",
    "\n",
    "model_sgd.fit(X_train, y_train)\n",
    "SGDClassifier(max_iter=5)\n",
    "\n",
    "stop = time.time()\n",
    "total_time = stop - start\n",
    "print(total_time)"
   ]
  },
  {
   "cell_type": "code",
   "execution_count": 77,
   "metadata": {},
   "outputs": [
    {
     "name": "stdout",
     "output_type": "stream",
     "text": [
      "0.795\n"
     ]
    }
   ],
   "source": [
    "#taux de classification\n",
    "\n",
    "y_pred_sgd = model_sgd.predict(X_test)\n",
    "\n",
    "print(accuracy_score(y_test, y_pred_sgd))"
   ]
  },
  {
   "cell_type": "markdown",
   "metadata": {},
   "source": [
    "# Modele SVM"
   ]
  },
  {
   "cell_type": "code",
   "execution_count": 78,
   "metadata": {},
   "outputs": [
    {
     "name": "stdout",
     "output_type": "stream",
     "text": [
      "Temps d'entrainnement pour le SVM : 5.193540573120117s\n"
     ]
    }
   ],
   "source": [
    "# détermination des meilleurs paramètres\n",
    "from sklearn.model_selection import GridSearchCV\n",
    "from sklearn import svm\n",
    "\n",
    "start = time.time()\n",
    "model_svm = svm.SVC()\n",
    "model_svm.fit(X_train, y_train)\n",
    "stop = time.time()\n",
    "print(f\"Temps d'entrainnement pour le SVM : {stop - start}s\")"
   ]
  },
  {
   "cell_type": "code",
   "execution_count": 79,
   "metadata": {},
   "outputs": [
    {
     "name": "stdout",
     "output_type": "stream",
     "text": [
      " le taux de classification :  0.86\n",
      "[0 0 0 0 0 0 0 0 0 0 0 0 0 0 0 0 0 0 0 0 0 0 0 0 0 0 0 0 0 0 0 0 0 0 0 0 0\n",
      " 0 0 0]\n",
      "[0 0 1 1 0 1 0 0 0 0 0 0 0 1 1 0 1 1 0 0 0 0 0 0 0 0 0 0 0 0 0 0 0 0 1 0 0\n",
      " 0 0 0]\n"
     ]
    }
   ],
   "source": [
    "#taux de classification\n",
    "\n",
    "y_pred_svm = model_svm.predict(X_test)\n",
    "\n",
    "print(\" le taux de classification : \", accuracy_score(y_test, y_pred_svm))\n",
    "\n",
    "print(y_pred_svm[0:40])\n",
    "print(y_test[0:40])"
   ]
  },
  {
   "cell_type": "code",
   "execution_count": 80,
   "metadata": {},
   "outputs": [
    {
     "name": "stdout",
     "output_type": "stream",
     "text": [
      "(9000, 8)\n"
     ]
    }
   ],
   "source": [
    "print(X_train.shape)"
   ]
  },
  {
   "cell_type": "markdown",
   "metadata": {},
   "source": [
    "# Reseau de neurone"
   ]
  },
  {
   "cell_type": "markdown",
   "metadata": {},
   "source": [
    "creation du modele"
   ]
  },
  {
   "cell_type": "code",
   "execution_count": 81,
   "metadata": {},
   "outputs": [],
   "source": [
    "from tensorflow.keras.models import Sequential\n",
    "from tensorflow.keras.layers import Dense, Dropout\n",
    "\n",
    "model = models.Sequential()\n",
    "\n",
    "# construction de réseau de neuronne\n",
    "model.add(Dense(64,activation='relu'))\n",
    "model.add(Dense(48,activation='relu'))\n",
    "model.add(Dense(32,activation='relu'))\n",
    "model.add(Dense(1,activation='sigmoid'))\n",
    "\n",
    "model.compile(loss=\"binary_crossentropy\", optimizer=\"rmsprop\", metrics=[\"accuracy\"])"
   ]
  },
  {
   "cell_type": "code",
   "execution_count": 82,
   "metadata": {},
   "outputs": [
    {
     "name": "stdout",
     "output_type": "stream",
     "text": [
      "Epoch 1/10\n",
      "900/900 [==============================] - 8s 5ms/step - loss: 0.4425 - accuracy: 0.8141 - val_loss: 0.3608 - val_accuracy: 0.8500\n",
      "Epoch 2/10\n",
      "900/900 [==============================] - 4s 5ms/step - loss: 0.3769 - accuracy: 0.8451 - val_loss: 0.3458 - val_accuracy: 0.8620\n",
      "Epoch 3/10\n",
      "900/900 [==============================] - 4s 4ms/step - loss: 0.3632 - accuracy: 0.8511 - val_loss: 0.3464 - val_accuracy: 0.8610\n",
      "Epoch 4/10\n",
      "900/900 [==============================] - 4s 4ms/step - loss: 0.3527 - accuracy: 0.8532 - val_loss: 0.3479 - val_accuracy: 0.8590\n",
      "Epoch 5/10\n",
      "900/900 [==============================] - 4s 5ms/step - loss: 0.3609 - accuracy: 0.8540 - val_loss: 0.3466 - val_accuracy: 0.8650\n",
      "Epoch 6/10\n",
      "900/900 [==============================] - 5s 5ms/step - loss: 0.3522 - accuracy: 0.8551 - val_loss: 0.3500 - val_accuracy: 0.8590\n",
      "Epoch 7/10\n",
      "900/900 [==============================] - 4s 4ms/step - loss: 0.3499 - accuracy: 0.8617 - val_loss: 0.3632 - val_accuracy: 0.8560\n",
      "Epoch 8/10\n",
      "900/900 [==============================] - 4s 4ms/step - loss: 0.3449 - accuracy: 0.8604 - val_loss: 0.3511 - val_accuracy: 0.8560\n",
      "Epoch 9/10\n",
      "900/900 [==============================] - 4s 5ms/step - loss: 0.3488 - accuracy: 0.8558 - val_loss: 0.3568 - val_accuracy: 0.8600\n",
      "Epoch 10/10\n",
      "900/900 [==============================] - 4s 5ms/step - loss: 0.3675 - accuracy: 0.8514 - val_loss: 0.3552 - val_accuracy: 0.8590\n"
     ]
    }
   ],
   "source": [
    "# Apprentissage  \n",
    "history = model.fit(X_train, y_train, validation_data=(X_test, y_test), epochs=10, batch_size=10)"
   ]
  },
  {
   "cell_type": "code",
   "execution_count": 83,
   "metadata": {},
   "outputs": [
    {
     "data": {
      "text/plain": [
       "array([[0.00856745],\n",
       "       [0.5029299 ],\n",
       "       [0.12414411],\n",
       "       [0.46420774],\n",
       "       [0.00733379],\n",
       "       [0.33124596],\n",
       "       [0.26178104],\n",
       "       [0.21769854],\n",
       "       [0.00407672],\n",
       "       [0.07190329]], dtype=float32)"
      ]
     },
     "execution_count": 83,
     "metadata": {},
     "output_type": "execute_result"
    }
   ],
   "source": [
    "predictions = model.predict(X_test)\n",
    "predictions[:10]"
   ]
  },
  {
   "cell_type": "code",
   "execution_count": 84,
   "metadata": {},
   "outputs": [],
   "source": [
    "y_pred = model.predict(X_test)\n",
    "y_pred = np.rint(y_pred)"
   ]
  },
  {
   "cell_type": "code",
   "execution_count": 85,
   "metadata": {},
   "outputs": [
    {
     "name": "stdout",
     "output_type": "stream",
     "text": [
      "y_test:[0 0 1 1 0 1 0 0 0 0]\n",
      "y_pred:[[0.]\n",
      " [1.]\n",
      " [0.]\n",
      " [0.]\n",
      " [0.]\n",
      " [0.]\n",
      " [0.]\n",
      " [0.]\n",
      " [0.]\n",
      " [0.]]\n",
      "771\n",
      "24\n",
      "117\n",
      "88\n",
      "sum=1000\n"
     ]
    }
   ],
   "source": [
    "from sklearn.metrics import confusion_matrix\n",
    "\n",
    "tn, fp, fn, tp = confusion_matrix(y_test, y_pred, labels=[0,1]).ravel()\n",
    "\n",
    "print('y_test:' + str(y_test[:10]))\n",
    "print('y_pred:' + str(y_pred[:10]))\n",
    "print (tn)\n",
    "print (fp)\n",
    "print (fn)\n",
    "print (tp)\n",
    "print('sum='+ str(tn + fp + fn + tp))"
   ]
  },
  {
   "cell_type": "code",
   "execution_count": 86,
   "metadata": {},
   "outputs": [
    {
     "data": {
      "image/png": "[encoded data removed]",
      "text/plain": [
       "<Figure size 1440x1080 with 9 Axes>"
      ]
     },
     "metadata": {
      "needs_background": "light"
     },
     "output_type": "display_data"
    }
   ],
   "source": [
    "import matplotlib.pyplot as plt\n",
    "taux.hist(bins=50, figsize=(20,15))\n",
    "plt.show()"
   ]
  },
  {
   "cell_type": "code",
   "execution_count": 87,
   "metadata": {},
   "outputs": [
    {
     "data": {
      "text/html": [
       "<div>\n",
       "<style scoped>\n",
       "    .dataframe tbody tr th:only-of-type {\n",
       "        vertical-align: middle;\n",
       "    }\n",
       "\n",
       "    .dataframe tbody tr th {\n",
       "        vertical-align: top;\n",
       "    }\n",
       "\n",
       "    .dataframe thead th {\n",
       "        text-align: right;\n",
       "    }\n",
       "</style>\n",
       "<table border=\"1\" class=\"dataframe\">\n",
       "  <thead>\n",
       "    <tr style=\"text-align: right;\">\n",
       "      <th></th>\n",
       "      <th>Score_Credit</th>\n",
       "      <th>Age</th>\n",
       "      <th>Tenure</th>\n",
       "      <th>Balance</th>\n",
       "      <th>Num_Produit</th>\n",
       "      <th>il_a_CrCard</th>\n",
       "      <th>Membre_actif</th>\n",
       "      <th>Salaire_estime</th>\n",
       "      <th>Exited</th>\n",
       "    </tr>\n",
       "  </thead>\n",
       "  <tbody>\n",
       "    <tr>\n",
       "      <th>Score_Credit</th>\n",
       "      <td>1.000000</td>\n",
       "      <td>-0.003965</td>\n",
       "      <td>0.000842</td>\n",
       "      <td>0.006268</td>\n",
       "      <td>0.012238</td>\n",
       "      <td>-0.005458</td>\n",
       "      <td>0.025651</td>\n",
       "      <td>-0.001384</td>\n",
       "      <td>-0.027094</td>\n",
       "    </tr>\n",
       "    <tr>\n",
       "      <th>Age</th>\n",
       "      <td>-0.003965</td>\n",
       "      <td>1.000000</td>\n",
       "      <td>-0.009997</td>\n",
       "      <td>0.028308</td>\n",
       "      <td>-0.030680</td>\n",
       "      <td>-0.011721</td>\n",
       "      <td>0.085472</td>\n",
       "      <td>-0.007201</td>\n",
       "      <td>0.285323</td>\n",
       "    </tr>\n",
       "    <tr>\n",
       "      <th>Tenure</th>\n",
       "      <td>0.000842</td>\n",
       "      <td>-0.009997</td>\n",
       "      <td>1.000000</td>\n",
       "      <td>-0.012254</td>\n",
       "      <td>0.013444</td>\n",
       "      <td>0.022583</td>\n",
       "      <td>-0.028362</td>\n",
       "      <td>0.007784</td>\n",
       "      <td>-0.014001</td>\n",
       "    </tr>\n",
       "    <tr>\n",
       "      <th>Balance</th>\n",
       "      <td>0.006268</td>\n",
       "      <td>0.028308</td>\n",
       "      <td>-0.012254</td>\n",
       "      <td>1.000000</td>\n",
       "      <td>-0.304180</td>\n",
       "      <td>-0.014858</td>\n",
       "      <td>-0.010084</td>\n",
       "      <td>0.012797</td>\n",
       "      <td>0.118533</td>\n",
       "    </tr>\n",
       "    <tr>\n",
       "      <th>Num_Produit</th>\n",
       "      <td>0.012238</td>\n",
       "      <td>-0.030680</td>\n",
       "      <td>0.013444</td>\n",
       "      <td>-0.304180</td>\n",
       "      <td>1.000000</td>\n",
       "      <td>0.003183</td>\n",
       "      <td>0.009612</td>\n",
       "      <td>0.014204</td>\n",
       "      <td>-0.047820</td>\n",
       "    </tr>\n",
       "    <tr>\n",
       "      <th>il_a_CrCard</th>\n",
       "      <td>-0.005458</td>\n",
       "      <td>-0.011721</td>\n",
       "      <td>0.022583</td>\n",
       "      <td>-0.014858</td>\n",
       "      <td>0.003183</td>\n",
       "      <td>1.000000</td>\n",
       "      <td>-0.011866</td>\n",
       "      <td>-0.009933</td>\n",
       "      <td>-0.007138</td>\n",
       "    </tr>\n",
       "    <tr>\n",
       "      <th>Membre_actif</th>\n",
       "      <td>0.025651</td>\n",
       "      <td>0.085472</td>\n",
       "      <td>-0.028362</td>\n",
       "      <td>-0.010084</td>\n",
       "      <td>0.009612</td>\n",
       "      <td>-0.011866</td>\n",
       "      <td>1.000000</td>\n",
       "      <td>-0.011421</td>\n",
       "      <td>-0.156128</td>\n",
       "    </tr>\n",
       "    <tr>\n",
       "      <th>Salaire_estime</th>\n",
       "      <td>-0.001384</td>\n",
       "      <td>-0.007201</td>\n",
       "      <td>0.007784</td>\n",
       "      <td>0.012797</td>\n",
       "      <td>0.014204</td>\n",
       "      <td>-0.009933</td>\n",
       "      <td>-0.011421</td>\n",
       "      <td>1.000000</td>\n",
       "      <td>0.012097</td>\n",
       "    </tr>\n",
       "    <tr>\n",
       "      <th>Exited</th>\n",
       "      <td>-0.027094</td>\n",
       "      <td>0.285323</td>\n",
       "      <td>-0.014001</td>\n",
       "      <td>0.118533</td>\n",
       "      <td>-0.047820</td>\n",
       "      <td>-0.007138</td>\n",
       "      <td>-0.156128</td>\n",
       "      <td>0.012097</td>\n",
       "      <td>1.000000</td>\n",
       "    </tr>\n",
       "  </tbody>\n",
       "</table>\n",
       "</div>"
      ],
      "text/plain": [
       "                Score_Credit       Age    Tenure   Balance  Num_Produit  \\\n",
       "Score_Credit        1.000000 -0.003965  0.000842  0.006268     0.012238   \n",
       "Age                -0.003965  1.000000 -0.009997  0.028308    -0.030680   \n",
       "Tenure              0.000842 -0.009997  1.000000 -0.012254     0.013444   \n",
       "Balance             0.006268  0.028308 -0.012254  1.000000    -0.304180   \n",
       "Num_Produit         0.012238 -0.030680  0.013444 -0.304180     1.000000   \n",
       "il_a_CrCard        -0.005458 -0.011721  0.022583 -0.014858     0.003183   \n",
       "Membre_actif        0.025651  0.085472 -0.028362 -0.010084     0.009612   \n",
       "Salaire_estime     -0.001384 -0.007201  0.007784  0.012797     0.014204   \n",
       "Exited             -0.027094  0.285323 -0.014001  0.118533    -0.047820   \n",
       "\n",
       "                il_a_CrCard  Membre_actif  Salaire_estime    Exited  \n",
       "Score_Credit      -0.005458      0.025651       -0.001384 -0.027094  \n",
       "Age               -0.011721      0.085472       -0.007201  0.285323  \n",
       "Tenure             0.022583     -0.028362        0.007784 -0.014001  \n",
       "Balance           -0.014858     -0.010084        0.012797  0.118533  \n",
       "Num_Produit        0.003183      0.009612        0.014204 -0.047820  \n",
       "il_a_CrCard        1.000000     -0.011866       -0.009933 -0.007138  \n",
       "Membre_actif      -0.011866      1.000000       -0.011421 -0.156128  \n",
       "Salaire_estime    -0.009933     -0.011421        1.000000  0.012097  \n",
       "Exited            -0.007138     -0.156128        0.012097  1.000000  "
      ]
     },
     "execution_count": 87,
     "metadata": {},
     "output_type": "execute_result"
    }
   ],
   "source": [
    "pearsoncorr = taux.corr(method='pearson')\n",
    "pearsoncorr"
   ]
  },
  {
   "cell_type": "markdown",
   "metadata": {},
   "source": [
    "# CONCLUSION"
   ]
  },
  {
   "cell_type": "markdown",
   "metadata": {},
   "source": [
    "Le modele du Random Forest semble le plus pertinant de tous les modèles que nous avons expérimenté avec un score de 0,85 pour le jeu de test.\n"
   ]
  },
  {
   "cell_type": "code",
   "execution_count": null,
   "metadata": {},
   "outputs": [],
   "source": []
  }
 ],
 "metadata": {
  "kernelspec": {
   "display_name": "Python 3",
   "language": "python",
   "name": "python3"
  },
  "language_info": {
   "codemirror_mode": {
    "name": "ipython",
    "version": 3
   },
   "file_extension": ".py",
   "mimetype": "text/x-python",
   "name": "python",
   "nbconvert_exporter": "python",
   "pygments_lexer": "ipython3",
   "version": "3.8.5"
  }
 },
 "nbformat": 4,
 "nbformat_minor": 4
}
